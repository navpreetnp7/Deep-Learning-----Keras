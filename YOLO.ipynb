{
 "cells": [
  {
   "cell_type": "code",
   "execution_count": 0,
   "metadata": {
    "colab": {
     "base_uri": "https://localhost:8080/",
     "height": 35
    },
    "colab_type": "code",
    "id": "8edSiHPi2N5l",
    "outputId": "84403453-29b8-4773-bd5e-c2831f357db7"
   },
   "outputs": [
    {
     "name": "stderr",
     "output_type": "stream",
     "text": [
      "Using TensorFlow backend.\n"
     ]
    }
   ],
   "source": [
    "# https://keras.io/\n",
    "!pip install -q keras\n",
    "import keras\n",
    "\n",
    "import keras\n",
    "from keras.datasets import cifar10\n",
    "from keras.models import Model, Sequential\n",
    "from keras.layers import Dense, Dropout, Flatten, Input, AveragePooling2D, merge, Activation\n",
    "from keras.layers import Conv2D, MaxPooling2D, BatchNormalization\n",
    "from keras.layers import Concatenate\n",
    "from keras.optimizers import Adam\n",
    "from keras.layers.advanced_activations import LeakyReLU\n",
    "from keras.layers import Reshape, Activation, Conv2D, Input, MaxPooling2D, BatchNormalization, Flatten, Dense, Lambda\n",
    "from keras.layers.merge import concatenate\n",
    "\n",
    "# this part will prevent tensorflow to allocate all the avaliable GPU Memory\n",
    "# backend\n",
    "import tensorflow as tf\n",
    "from keras import backend as k\n",
    "\n",
    "# Don't pre-allocate memory; allocate as-needed\n",
    "config = tf.ConfigProto()\n",
    "config.gpu_options.allow_growth = True\n",
    "\n",
    "# Create a session with the above options specified.\n",
    "k.tensorflow_backend.set_session(tf.Session(config=config))\n",
    "\n",
    "# Hyperparameters\n",
    "batch_size = 128\n",
    "num_classes = 10\n",
    "epochs = 50\n",
    "l = 10\n",
    "num_filter = 20"
   ]
  },
  {
   "cell_type": "code",
   "execution_count": 0,
   "metadata": {
    "colab": {},
    "colab_type": "code",
    "id": "-hkvQwOH2cCO"
   },
   "outputs": [],
   "source": [
    "# Load CIFAR10 Data\n",
    "(x_train, y_train), (x_test, y_test) = cifar10.load_data()\n",
    "img_height, img_width, channel = x_train.shape[1],x_train.shape[2],x_train.shape[3]\n",
    "\n",
    "# convert to one hot encoing \n",
    "y_train = keras.utils.to_categorical(y_train, num_classes)\n",
    "y_test = keras.utils.to_categorical(y_test, num_classes)"
   ]
  },
  {
   "cell_type": "code",
   "execution_count": 0,
   "metadata": {
    "colab": {},
    "colab_type": "code",
    "id": "ztoDypc63gEs"
   },
   "outputs": [],
   "source": [
    "def space_to_depth_x2(x):\n",
    "    return tf.space_to_depth(x, block_size=8)"
   ]
  },
  {
   "cell_type": "code",
   "execution_count": 0,
   "metadata": {
    "colab": {
     "base_uri": "https://localhost:8080/",
     "height": 92
    },
    "colab_type": "code",
    "id": "SNnGm8Tv2fR1",
    "outputId": "a28fbec1-bb79-4f69-d1be-f45ffef123c8"
   },
   "outputs": [
    {
     "name": "stdout",
     "output_type": "stream",
     "text": [
      "WARNING:tensorflow:From /usr/local/lib/python3.6/dist-packages/tensorflow/python/framework/op_def_library.py:263: colocate_with (from tensorflow.python.framework.ops) is deprecated and will be removed in a future version.\n",
      "Instructions for updating:\n",
      "Colocations handled automatically by placer.\n"
     ]
    }
   ],
   "source": [
    "input = Input(shape=(img_height, img_width, channel,))\n",
    "\n",
    "# Block 1\n",
    "layer1 = Conv2D(32, (3,3), strides=(1,1), padding='same', name='conv_1', use_bias=False)(input)\n",
    "layer1 = Conv2D(64, (3,3), strides=(1,1), padding='same', name='conv_2', use_bias=False)(layer1)\n",
    "layer1 = Conv2D(128, (3,3), strides=(1,1), padding='same', name='conv_3', use_bias=False)(layer1)\n",
    "layer1 = Conv2D(256, (3,3), strides=(1,1), padding='same', name='conv_4', use_bias=False)(layer1)\n",
    "layer1 = Conv2D(512, (3,3), strides=(1,1), padding='same', name='conv_5', use_bias=False)(layer1)\n",
    "layer1 = BatchNormalization(name='norm_1')(layer1)\n",
    "layer1 = LeakyReLU(alpha=0.1)(layer1)\n",
    "layer1 = MaxPooling2D(pool_size=(2, 2))(layer1)\n",
    "\n",
    "\n",
    "\n",
    "# Block 2\n",
    "layer2 = Conv2D(32, (3,3), strides=(1,1), padding='same', name='conv_6', use_bias=False)(layer1)\n",
    "layer2 = Conv2D(64, (3,3), strides=(1,1), padding='same', name='conv_7', use_bias=False)(layer2)\n",
    "layer2 = Conv2D(128, (3,3), strides=(1,1), padding='same', name='conv_8', use_bias=False)(layer2)\n",
    "layer2 = Conv2D(256, (3,3), strides=(1,1), padding='same', name='conv_9', use_bias=False)(layer2)\n",
    "layer2 = Conv2D(512, (3,3), strides=(1,1), padding='same', name='conv_10', use_bias=False)(layer2)\n",
    "layer2 = BatchNormalization(name='norm_2')(layer2)\n",
    "layer2 = LeakyReLU(alpha=0.1)(layer2)\n",
    "layer2 = MaxPooling2D(pool_size=(2, 2))(layer2)\n",
    "\n",
    "# Block 3\n",
    "layer3 = Conv2D(32, (3,3), strides=(1,1), padding='same', name='conv_11', use_bias=False)(layer2)\n",
    "layer3 = Conv2D(64, (3,3), strides=(1,1), padding='same', name='conv_12', use_bias=False)(layer3)\n",
    "layer3 = Conv2D(128, (3,3), strides=(1,1), padding='same', name='conv_13', use_bias=False)(layer3)\n",
    "layer3 = Conv2D(256, (3,3), strides=(1,1), padding='same', name='conv_14', use_bias=False)(layer3)\n",
    "layer3 = Conv2D(512, (3,3), strides=(1,1), padding='same', name='conv_15', use_bias=False)(layer3)\n",
    "layer3 = BatchNormalization(name='norm_3')(layer3)\n",
    "layer3 = LeakyReLU(alpha=0.1)(layer3)\n",
    "layer3 = MaxPooling2D(pool_size=(2, 2))(layer3)\n",
    "\n",
    "# Block 4\n",
    "layer4 = Conv2D(32, (3,3), strides=(1,1), padding='same', name='conv_16', use_bias=False)(layer3)\n",
    "layer4 = Conv2D(64, (3,3), strides=(1,1), padding='same', name='conv_17', use_bias=False)(layer4)\n",
    "layer4 = Conv2D(128, (3,3), strides=(1,1), padding='same', name='conv_18', use_bias=False)(layer4)\n",
    "layer4 = Conv2D(256, (3,3), strides=(1,1), padding='same', name='conv_19', use_bias=False)(layer4)\n",
    "layer4 = Conv2D(512, (3,3), strides=(1,1), padding='same', name='conv_20', use_bias=False)(layer4)\n",
    "layer4 = BatchNormalization(name='norm_4')(layer4)\n",
    "layer4 = LeakyReLU(alpha=0.1)(layer4)\n",
    "layer4 = MaxPooling2D(pool_size=(2, 2))(layer4)\n",
    "\n",
    "layer1 = Conv2D(32, (1,1), strides=(1,1), padding='same', name='conv_21', use_bias=False)(layer1)\n",
    "layer1 = BatchNormalization(name='norm_5')(layer1)\n",
    "layer1 = LeakyReLU(alpha=0.1)(layer1)\n",
    "layer1 = Lambda(space_to_depth_x2)(layer1)\n",
    "\n",
    "layers = concatenate([layer1, layer4])\n",
    "layers = Conv2D(num_classes,2)(layers)\n",
    "layers = Flatten()(layers)\n",
    "\n",
    "output = Activation('softmax')(layers)\n",
    "#output = Conv2D(num_classes, 1, activation='softmax')(layers)\n",
    "\n"
   ]
  },
  {
   "cell_type": "code",
   "execution_count": 0,
   "metadata": {
    "colab": {
     "base_uri": "https://localhost:8080/",
     "height": 1679
    },
    "colab_type": "code",
    "id": "Jeh0VAxy26NV",
    "outputId": "0f34b759-2913-4726-bfa6-f112c0f0edf0"
   },
   "outputs": [
    {
     "name": "stdout",
     "output_type": "stream",
     "text": [
      "__________________________________________________________________________________________________\n",
      "Layer (type)                    Output Shape         Param #     Connected to                     \n",
      "==================================================================================================\n",
      "input_1 (InputLayer)            (None, 32, 32, 3)    0                                            \n",
      "__________________________________________________________________________________________________\n",
      "conv_1 (Conv2D)                 (None, 32, 32, 32)   864         input_1[0][0]                    \n",
      "__________________________________________________________________________________________________\n",
      "conv_2 (Conv2D)                 (None, 32, 32, 64)   18432       conv_1[0][0]                     \n",
      "__________________________________________________________________________________________________\n",
      "conv_3 (Conv2D)                 (None, 32, 32, 128)  73728       conv_2[0][0]                     \n",
      "__________________________________________________________________________________________________\n",
      "conv_4 (Conv2D)                 (None, 32, 32, 256)  294912      conv_3[0][0]                     \n",
      "__________________________________________________________________________________________________\n",
      "conv_5 (Conv2D)                 (None, 32, 32, 512)  1179648     conv_4[0][0]                     \n",
      "__________________________________________________________________________________________________\n",
      "norm_1 (BatchNormalization)     (None, 32, 32, 512)  2048        conv_5[0][0]                     \n",
      "__________________________________________________________________________________________________\n",
      "leaky_re_lu_1 (LeakyReLU)       (None, 32, 32, 512)  0           norm_1[0][0]                     \n",
      "__________________________________________________________________________________________________\n",
      "max_pooling2d_1 (MaxPooling2D)  (None, 16, 16, 512)  0           leaky_re_lu_1[0][0]              \n",
      "__________________________________________________________________________________________________\n",
      "conv_6 (Conv2D)                 (None, 16, 16, 32)   147456      max_pooling2d_1[0][0]            \n",
      "__________________________________________________________________________________________________\n",
      "conv_7 (Conv2D)                 (None, 16, 16, 64)   18432       conv_6[0][0]                     \n",
      "__________________________________________________________________________________________________\n",
      "conv_8 (Conv2D)                 (None, 16, 16, 128)  73728       conv_7[0][0]                     \n",
      "__________________________________________________________________________________________________\n",
      "conv_9 (Conv2D)                 (None, 16, 16, 256)  294912      conv_8[0][0]                     \n",
      "__________________________________________________________________________________________________\n",
      "conv_10 (Conv2D)                (None, 16, 16, 512)  1179648     conv_9[0][0]                     \n",
      "__________________________________________________________________________________________________\n",
      "norm_2 (BatchNormalization)     (None, 16, 16, 512)  2048        conv_10[0][0]                    \n",
      "__________________________________________________________________________________________________\n",
      "leaky_re_lu_2 (LeakyReLU)       (None, 16, 16, 512)  0           norm_2[0][0]                     \n",
      "__________________________________________________________________________________________________\n",
      "max_pooling2d_2 (MaxPooling2D)  (None, 8, 8, 512)    0           leaky_re_lu_2[0][0]              \n",
      "__________________________________________________________________________________________________\n",
      "conv_11 (Conv2D)                (None, 8, 8, 32)     147456      max_pooling2d_2[0][0]            \n",
      "__________________________________________________________________________________________________\n",
      "conv_12 (Conv2D)                (None, 8, 8, 64)     18432       conv_11[0][0]                    \n",
      "__________________________________________________________________________________________________\n",
      "conv_13 (Conv2D)                (None, 8, 8, 128)    73728       conv_12[0][0]                    \n",
      "__________________________________________________________________________________________________\n",
      "conv_14 (Conv2D)                (None, 8, 8, 256)    294912      conv_13[0][0]                    \n",
      "__________________________________________________________________________________________________\n",
      "conv_15 (Conv2D)                (None, 8, 8, 512)    1179648     conv_14[0][0]                    \n",
      "__________________________________________________________________________________________________\n",
      "norm_3 (BatchNormalization)     (None, 8, 8, 512)    2048        conv_15[0][0]                    \n",
      "__________________________________________________________________________________________________\n",
      "leaky_re_lu_3 (LeakyReLU)       (None, 8, 8, 512)    0           norm_3[0][0]                     \n",
      "__________________________________________________________________________________________________\n",
      "max_pooling2d_3 (MaxPooling2D)  (None, 4, 4, 512)    0           leaky_re_lu_3[0][0]              \n",
      "__________________________________________________________________________________________________\n",
      "conv_16 (Conv2D)                (None, 4, 4, 32)     147456      max_pooling2d_3[0][0]            \n",
      "__________________________________________________________________________________________________\n",
      "conv_17 (Conv2D)                (None, 4, 4, 64)     18432       conv_16[0][0]                    \n",
      "__________________________________________________________________________________________________\n",
      "conv_18 (Conv2D)                (None, 4, 4, 128)    73728       conv_17[0][0]                    \n",
      "__________________________________________________________________________________________________\n",
      "conv_19 (Conv2D)                (None, 4, 4, 256)    294912      conv_18[0][0]                    \n",
      "__________________________________________________________________________________________________\n",
      "conv_21 (Conv2D)                (None, 16, 16, 32)   16384       max_pooling2d_1[0][0]            \n",
      "__________________________________________________________________________________________________\n",
      "conv_20 (Conv2D)                (None, 4, 4, 512)    1179648     conv_19[0][0]                    \n",
      "__________________________________________________________________________________________________\n",
      "norm_5 (BatchNormalization)     (None, 16, 16, 32)   128         conv_21[0][0]                    \n",
      "__________________________________________________________________________________________________\n",
      "norm_4 (BatchNormalization)     (None, 4, 4, 512)    2048        conv_20[0][0]                    \n",
      "__________________________________________________________________________________________________\n",
      "leaky_re_lu_5 (LeakyReLU)       (None, 16, 16, 32)   0           norm_5[0][0]                     \n",
      "__________________________________________________________________________________________________\n",
      "leaky_re_lu_4 (LeakyReLU)       (None, 4, 4, 512)    0           norm_4[0][0]                     \n",
      "__________________________________________________________________________________________________\n",
      "lambda_1 (Lambda)               (None, 2, 2, 2048)   0           leaky_re_lu_5[0][0]              \n",
      "__________________________________________________________________________________________________\n",
      "max_pooling2d_4 (MaxPooling2D)  (None, 2, 2, 512)    0           leaky_re_lu_4[0][0]              \n",
      "__________________________________________________________________________________________________\n",
      "concatenate_1 (Concatenate)     (None, 2, 2, 2560)   0           lambda_1[0][0]                   \n",
      "                                                                 max_pooling2d_4[0][0]            \n",
      "__________________________________________________________________________________________________\n",
      "conv2d_1 (Conv2D)               (None, 1, 1, 10)     102410      concatenate_1[0][0]              \n",
      "__________________________________________________________________________________________________\n",
      "flatten_1 (Flatten)             (None, 10)           0           conv2d_1[0][0]                   \n",
      "__________________________________________________________________________________________________\n",
      "activation_1 (Activation)       (None, 10)           0           flatten_1[0][0]                  \n",
      "==================================================================================================\n",
      "Total params: 6,837,226\n",
      "Trainable params: 6,833,066\n",
      "Non-trainable params: 4,160\n",
      "__________________________________________________________________________________________________\n"
     ]
    }
   ],
   "source": [
    "model = Model(inputs=[input], outputs=[output])\n",
    "model.summary()"
   ]
  },
  {
   "cell_type": "code",
   "execution_count": 0,
   "metadata": {
    "colab": {},
    "colab_type": "code",
    "id": "apCwOjvZ4Kts"
   },
   "outputs": [],
   "source": [
    "# determine Loss function and Optimizer\n",
    "model.compile(loss='categorical_crossentropy',\n",
    "              optimizer=Adam(),\n",
    "              metrics=['accuracy'])"
   ]
  },
  {
   "cell_type": "code",
   "execution_count": 0,
   "metadata": {
    "colab": {
     "base_uri": "https://localhost:8080/",
     "height": 1976
    },
    "colab_type": "code",
    "id": "tLaFy2AO4TLl",
    "outputId": "76fe75b7-3088-4381-bd61-6aa951ff43d0"
   },
   "outputs": [
    {
     "name": "stdout",
     "output_type": "stream",
     "text": [
      "WARNING:tensorflow:From /usr/local/lib/python3.6/dist-packages/tensorflow/python/ops/math_ops.py:3066: to_int32 (from tensorflow.python.ops.math_ops) is deprecated and will be removed in a future version.\n",
      "Instructions for updating:\n",
      "Use tf.cast instead.\n",
      "Train on 50000 samples, validate on 10000 samples\n",
      "Epoch 1/50\n",
      "50000/50000 [==============================] - 214s 4ms/step - loss: 1.6202 - acc: 0.4553 - val_loss: 1.5959 - val_acc: 0.5034\n",
      "Epoch 2/50\n",
      "50000/50000 [==============================] - 199s 4ms/step - loss: 1.0693 - acc: 0.6333 - val_loss: 1.0395 - val_acc: 0.6409\n",
      "Epoch 3/50\n",
      "50000/50000 [==============================] - 199s 4ms/step - loss: 0.8867 - acc: 0.6971 - val_loss: 1.0822 - val_acc: 0.6444\n",
      "Epoch 4/50\n",
      "50000/50000 [==============================] - 199s 4ms/step - loss: 0.7854 - acc: 0.7310 - val_loss: 1.0059 - val_acc: 0.6647\n",
      "Epoch 5/50\n",
      "50000/50000 [==============================] - 199s 4ms/step - loss: 0.7048 - acc: 0.7574 - val_loss: 0.9924 - val_acc: 0.6739\n",
      "Epoch 6/50\n",
      "50000/50000 [==============================] - 199s 4ms/step - loss: 0.6423 - acc: 0.7780 - val_loss: 0.9704 - val_acc: 0.6769\n",
      "Epoch 7/50\n",
      "50000/50000 [==============================] - 199s 4ms/step - loss: 0.5922 - acc: 0.7958 - val_loss: 1.0352 - val_acc: 0.6702\n",
      "Epoch 8/50\n",
      "50000/50000 [==============================] - 199s 4ms/step - loss: 0.5458 - acc: 0.8111 - val_loss: 1.0035 - val_acc: 0.6852\n",
      "Epoch 9/50\n",
      "50000/50000 [==============================] - 199s 4ms/step - loss: 0.4912 - acc: 0.8307 - val_loss: 0.9891 - val_acc: 0.6998\n",
      "Epoch 10/50\n",
      "50000/50000 [==============================] - 199s 4ms/step - loss: 0.4533 - acc: 0.8426 - val_loss: 1.0921 - val_acc: 0.6765\n",
      "Epoch 11/50\n",
      "50000/50000 [==============================] - 199s 4ms/step - loss: 0.4082 - acc: 0.8587 - val_loss: 1.0785 - val_acc: 0.6867\n",
      "Epoch 12/50\n",
      "50000/50000 [==============================] - 199s 4ms/step - loss: 0.3714 - acc: 0.8709 - val_loss: 1.1675 - val_acc: 0.6838\n",
      "Epoch 13/50\n",
      "50000/50000 [==============================] - 199s 4ms/step - loss: 0.3388 - acc: 0.8833 - val_loss: 1.2523 - val_acc: 0.6644\n",
      "Epoch 14/50\n",
      "50000/50000 [==============================] - 199s 4ms/step - loss: 0.3067 - acc: 0.8953 - val_loss: 1.3602 - val_acc: 0.6572\n",
      "Epoch 15/50\n",
      "50000/50000 [==============================] - 199s 4ms/step - loss: 0.2819 - acc: 0.9021 - val_loss: 1.3789 - val_acc: 0.6631\n",
      "Epoch 16/50\n",
      "50000/50000 [==============================] - 199s 4ms/step - loss: 0.2532 - acc: 0.9141 - val_loss: 1.2536 - val_acc: 0.6881\n",
      "Epoch 17/50\n",
      "50000/50000 [==============================] - 199s 4ms/step - loss: 0.2286 - acc: 0.9218 - val_loss: 1.2938 - val_acc: 0.6809\n",
      "Epoch 18/50\n",
      "50000/50000 [==============================] - 199s 4ms/step - loss: 0.2020 - acc: 0.9329 - val_loss: 1.4368 - val_acc: 0.6680\n",
      "Epoch 19/50\n",
      "50000/50000 [==============================] - 199s 4ms/step - loss: 0.1793 - acc: 0.9394 - val_loss: 1.4688 - val_acc: 0.6786\n",
      "Epoch 20/50\n",
      "50000/50000 [==============================] - 199s 4ms/step - loss: 0.1601 - acc: 0.9468 - val_loss: 1.6426 - val_acc: 0.6681\n",
      "Epoch 21/50\n",
      "50000/50000 [==============================] - 199s 4ms/step - loss: 0.1501 - acc: 0.9496 - val_loss: 1.7060 - val_acc: 0.6677\n",
      "Epoch 22/50\n",
      "50000/50000 [==============================] - 199s 4ms/step - loss: 0.1419 - acc: 0.9519 - val_loss: 1.7188 - val_acc: 0.6730\n",
      "Epoch 23/50\n",
      "50000/50000 [==============================] - 199s 4ms/step - loss: 0.1273 - acc: 0.9571 - val_loss: 1.5599 - val_acc: 0.6895\n",
      "Epoch 24/50\n",
      "50000/50000 [==============================] - 199s 4ms/step - loss: 0.1183 - acc: 0.9605 - val_loss: 1.7678 - val_acc: 0.6672\n",
      "Epoch 25/50\n",
      "50000/50000 [==============================] - 199s 4ms/step - loss: 0.1105 - acc: 0.9629 - val_loss: 1.7707 - val_acc: 0.6677\n",
      "Epoch 26/50\n",
      "50000/50000 [==============================] - 199s 4ms/step - loss: 0.1029 - acc: 0.9656 - val_loss: 1.9435 - val_acc: 0.6539\n",
      "Epoch 27/50\n",
      "50000/50000 [==============================] - 199s 4ms/step - loss: 0.0975 - acc: 0.9674 - val_loss: 1.8735 - val_acc: 0.6757\n",
      "Epoch 28/50\n",
      "50000/50000 [==============================] - 199s 4ms/step - loss: 0.0744 - acc: 0.9768 - val_loss: 1.8414 - val_acc: 0.6731\n",
      "Epoch 29/50\n",
      "50000/50000 [==============================] - 199s 4ms/step - loss: 0.0863 - acc: 0.9714 - val_loss: 2.0472 - val_acc: 0.6641\n",
      "Epoch 30/50\n",
      "50000/50000 [==============================] - 199s 4ms/step - loss: 0.0871 - acc: 0.9711 - val_loss: 2.1435 - val_acc: 0.6432\n",
      "Epoch 31/50\n",
      "50000/50000 [==============================] - 199s 4ms/step - loss: 0.0796 - acc: 0.9732 - val_loss: 2.0481 - val_acc: 0.6695\n",
      "Epoch 32/50\n",
      "50000/50000 [==============================] - 199s 4ms/step - loss: 0.0631 - acc: 0.9802 - val_loss: 2.0416 - val_acc: 0.6684\n",
      "Epoch 33/50\n",
      "50000/50000 [==============================] - 200s 4ms/step - loss: 0.0598 - acc: 0.9809 - val_loss: 2.0153 - val_acc: 0.6773\n",
      "Epoch 34/50\n",
      "50000/50000 [==============================] - 200s 4ms/step - loss: 0.0668 - acc: 0.9777 - val_loss: 2.2557 - val_acc: 0.6521\n",
      "Epoch 35/50\n",
      "50000/50000 [==============================] - 198s 4ms/step - loss: 0.0907 - acc: 0.9680 - val_loss: 2.0912 - val_acc: 0.6705\n",
      "Epoch 36/50\n",
      "50000/50000 [==============================] - 198s 4ms/step - loss: 0.0640 - acc: 0.9791 - val_loss: 2.1059 - val_acc: 0.6664\n",
      "Epoch 37/50\n",
      "50000/50000 [==============================] - 199s 4ms/step - loss: 0.0500 - acc: 0.9843 - val_loss: 2.0906 - val_acc: 0.6745\n",
      "Epoch 38/50\n",
      "50000/50000 [==============================] - 199s 4ms/step - loss: 0.0460 - acc: 0.9857 - val_loss: 2.2683 - val_acc: 0.6650\n",
      "Epoch 39/50\n",
      "50000/50000 [==============================] - 199s 4ms/step - loss: 0.0590 - acc: 0.9801 - val_loss: 2.2210 - val_acc: 0.6733\n",
      "Epoch 40/50\n",
      "50000/50000 [==============================] - 199s 4ms/step - loss: 0.0644 - acc: 0.9777 - val_loss: 2.1566 - val_acc: 0.6753\n",
      "Epoch 41/50\n",
      "50000/50000 [==============================] - 199s 4ms/step - loss: 0.0426 - acc: 0.9865 - val_loss: 2.3332 - val_acc: 0.6635\n",
      "Epoch 42/50\n",
      "50000/50000 [==============================] - 199s 4ms/step - loss: 0.0431 - acc: 0.9863 - val_loss: 2.3137 - val_acc: 0.6708\n",
      "Epoch 43/50\n",
      "50000/50000 [==============================] - 198s 4ms/step - loss: 0.0604 - acc: 0.9790 - val_loss: 2.5757 - val_acc: 0.6487\n",
      "Epoch 44/50\n",
      "50000/50000 [==============================] - 198s 4ms/step - loss: 0.0522 - acc: 0.9816 - val_loss: 2.2748 - val_acc: 0.6656\n",
      "Epoch 45/50\n",
      "50000/50000 [==============================] - 198s 4ms/step - loss: 0.0373 - acc: 0.9881 - val_loss: 2.3151 - val_acc: 0.6686\n",
      "Epoch 46/50\n",
      "50000/50000 [==============================] - 199s 4ms/step - loss: 0.0404 - acc: 0.9868 - val_loss: 2.4989 - val_acc: 0.6574\n",
      "Epoch 47/50\n",
      "50000/50000 [==============================] - 199s 4ms/step - loss: 0.0456 - acc: 0.9846 - val_loss: 2.5223 - val_acc: 0.6598\n",
      "Epoch 48/50\n",
      "50000/50000 [==============================] - 199s 4ms/step - loss: 0.0518 - acc: 0.9817 - val_loss: 2.4191 - val_acc: 0.6624\n",
      "Epoch 49/50\n",
      "50000/50000 [==============================] - 199s 4ms/step - loss: 0.0484 - acc: 0.9837 - val_loss: 2.7906 - val_acc: 0.6393\n",
      "Epoch 50/50\n",
      "50000/50000 [==============================] - 199s 4ms/step - loss: 0.0410 - acc: 0.9862 - val_loss: 2.3208 - val_acc: 0.6790\n"
     ]
    },
    {
     "data": {
      "text/plain": [
       "<keras.callbacks.History at 0x7f0f30f72278>"
      ]
     },
     "execution_count": 7,
     "metadata": {
      "tags": []
     },
     "output_type": "execute_result"
    }
   ],
   "source": [
    "model.fit(x_train, y_train,\n",
    "                    batch_size=batch_size,\n",
    "                    epochs=epochs,\n",
    "                    verbose=1,\n",
    "                    validation_data=(x_test, y_test))"
   ]
  },
  {
   "cell_type": "code",
   "execution_count": 0,
   "metadata": {
    "colab": {
     "base_uri": "https://localhost:8080/",
     "height": 91
    },
    "colab_type": "code",
    "id": "pTfZIGrf4Uyd",
    "outputId": "ea9c55fa-5115-46e9-9280-6ac44105f9a5"
   },
   "outputs": [
    {
     "name": "stdout",
     "output_type": "stream",
     "text": [
      "10000/10000 [==============================] - 15s 1ms/step\n",
      "Test loss: 2.3208101592063906\n",
      "Test accuracy: 0.679\n",
      "Saved the model to disk\n"
     ]
    }
   ],
   "source": [
    "# Test the model\n",
    "score = model.evaluate(x_test, y_test, verbose=1)\n",
    "print('Test loss:', score[0])\n",
    "print('Test accuracy:', score[1])\n",
    "# Save the trained weights in to .h5 format\n",
    "model.save_weights(\"Yolo_Basic_model2.h5\")\n",
    "print(\"Saved the model to disk\")"
   ]
  },
  {
   "cell_type": "code",
   "execution_count": 0,
   "metadata": {
    "colab": {
     "base_uri": "https://localhost:8080/",
     "height": 358
    },
    "colab_type": "code",
    "id": "Jiyb9TlVGsZs",
    "outputId": "be783960-8994-4611-8dea-6410a87a2d95",
    "scrolled": true
   },
   "outputs": [
    {
     "name": "stdout",
     "output_type": "stream",
     "text": [
      "Saved the model to disk\n"
     ]
    },
    {
     "ename": "FileNotFoundError",
     "evalue": "ignored",
     "output_type": "error",
     "traceback": [
      "\u001b[0;31m---------------------------------------------------------------------------\u001b[0m",
      "\u001b[0;31mFileNotFoundError\u001b[0m                         Traceback (most recent call last)",
      "\u001b[0;32m<ipython-input-9-7fd61af6c08d>\u001b[0m in \u001b[0;36m<module>\u001b[0;34m()\u001b[0m\n\u001b[1;32m      3\u001b[0m \u001b[0;32mfrom\u001b[0m \u001b[0mgoogle\u001b[0m\u001b[0;34m.\u001b[0m\u001b[0mcolab\u001b[0m \u001b[0;32mimport\u001b[0m \u001b[0mfiles\u001b[0m\u001b[0;34m\u001b[0m\u001b[0;34m\u001b[0m\u001b[0m\n\u001b[1;32m      4\u001b[0m \u001b[0;34m\u001b[0m\u001b[0m\n\u001b[0;32m----> 5\u001b[0;31m \u001b[0mfiles\u001b[0m\u001b[0;34m.\u001b[0m\u001b[0mdownload\u001b[0m\u001b[0;34m(\u001b[0m\u001b[0;34m'Yolo_Basic_model.h5'\u001b[0m\u001b[0;34m)\u001b[0m\u001b[0;34m\u001b[0m\u001b[0;34m\u001b[0m\u001b[0m\n\u001b[0m",
      "\u001b[0;32m/usr/local/lib/python3.6/dist-packages/google/colab/files.py\u001b[0m in \u001b[0;36mdownload\u001b[0;34m(filename)\u001b[0m\n\u001b[1;32m    142\u001b[0m       \u001b[0;32mraise\u001b[0m \u001b[0mOSError\u001b[0m\u001b[0;34m(\u001b[0m\u001b[0mmsg\u001b[0m\u001b[0;34m)\u001b[0m\u001b[0;34m\u001b[0m\u001b[0;34m\u001b[0m\u001b[0m\n\u001b[1;32m    143\u001b[0m     \u001b[0;32melse\u001b[0m\u001b[0;34m:\u001b[0m\u001b[0;34m\u001b[0m\u001b[0;34m\u001b[0m\u001b[0m\n\u001b[0;32m--> 144\u001b[0;31m       \u001b[0;32mraise\u001b[0m \u001b[0mFileNotFoundError\u001b[0m\u001b[0;34m(\u001b[0m\u001b[0mmsg\u001b[0m\u001b[0;34m)\u001b[0m  \u001b[0;31m# pylint: disable=undefined-variable\u001b[0m\u001b[0;34m\u001b[0m\u001b[0;34m\u001b[0m\u001b[0m\n\u001b[0m\u001b[1;32m    145\u001b[0m \u001b[0;34m\u001b[0m\u001b[0m\n\u001b[1;32m    146\u001b[0m   \u001b[0mstarted\u001b[0m \u001b[0;34m=\u001b[0m \u001b[0m_threading\u001b[0m\u001b[0;34m.\u001b[0m\u001b[0mEvent\u001b[0m\u001b[0;34m(\u001b[0m\u001b[0;34m)\u001b[0m\u001b[0;34m\u001b[0m\u001b[0;34m\u001b[0m\u001b[0m\n",
      "\u001b[0;31mFileNotFoundError\u001b[0m: Cannot find file: Yolo_Basic_model.h5"
     ]
    }
   ],
   "source": [
    "model.save_weights(\"Yolo_Basic_model2.h5\")\n",
    "print(\"Saved the model to disk\")\n",
    "from google.colab import files\n",
    "\n",
    "files.download('Yolo_Basic_model.h5')"
   ]
  },
  {
   "cell_type": "code",
   "execution_count": 0,
   "metadata": {
    "colab": {},
    "colab_type": "code",
    "id": "g9A3pesKbUJ8"
   },
   "outputs": [],
   "source": []
  }
 ],
 "metadata": {
  "accelerator": "GPU",
  "colab": {
   "collapsed_sections": [],
   "name": "Assgn3c.ipynb",
   "provenance": []
  },
  "kernelspec": {
   "display_name": "Python 3",
   "language": "python",
   "name": "python3"
  },
  "language_info": {
   "codemirror_mode": {
    "name": "ipython",
    "version": 3
   },
   "file_extension": ".py",
   "mimetype": "text/x-python",
   "name": "python",
   "nbconvert_exporter": "python",
   "pygments_lexer": "ipython3",
   "version": "3.8.2"
  }
 },
 "nbformat": 4,
 "nbformat_minor": 1
}
