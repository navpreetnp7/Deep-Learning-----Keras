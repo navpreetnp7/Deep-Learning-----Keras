{
 "cells": [
  {
   "cell_type": "markdown",
   "metadata": {
    "colab_type": "text",
    "id": "gf9lOEmQuL1k"
   },
   "source": [
    "# ASSIGNMENT 2a\n",
    "\n",
    "\n"
   ]
  },
  {
   "cell_type": "markdown",
   "metadata": {
    "colab_type": "text",
    "id": "-mnZw5aB_IGS"
   },
   "source": [
    "## Backpropogation Step by Step\n",
    "\n",
    "![backpropogation](https://hmkcode.github.io/images/ai/backpropagation.png)\n",
    "\n",
    "If you are building your own neural network, you will definitely need to understand how to train it. Backpropagation is a commonly used technique for training neural network. There are many resources explaining the technique, but this post will explain backpropagation with concrete example in a very detailed colorful steps. \n"
   ]
  },
  {
   "cell_type": "markdown",
   "metadata": {
    "colab_type": "text",
    "id": "byvzoo4IuhYi"
   },
   "source": [
    "## Overview\n",
    "\n",
    "In this post, we will build a neural network with three layers:\n",
    "\n",
    "   * **Input** layer with two inputs neurons\n",
    "   * One **hidden** layer with two neurons\n",
    "   * **Output** layer with a single neuron\n",
    "   \n",
    "   ![img](https://hmkcode.github.io/images/ai/nn1.png)\n"
   ]
  },
  {
   "cell_type": "markdown",
   "metadata": {
    "colab_type": "text",
    "id": "y3ezr4zTu5ax"
   },
   "source": [
    "## Weights, weights, weights\n",
    "\n",
    "Neural network training is about finding weights that minimize prediction error. We usually start our training with a set of randomly generated weights.Then, backpropagation is used to update the weights in an attempt to correctly map arbitrary inputs to outputs.\n",
    "\n",
    "Our initial weights will be as following: `w1 = 0.17`, `w2 = 0.25`, `w3 = 0.22`, `w4 = 0.09`, `w5 = 0.11` and `w6 = 0.13`\n",
    "\n",
    "![nn](https://github.com/navpreetnp7/img/raw/master/nn1.png)"
   ]
  },
  {
   "cell_type": "markdown",
   "metadata": {
    "colab_type": "text",
    "id": "0stkyJKJz0bq"
   },
   "source": [
    "## Dataset\n",
    "\n",
    "Our dataset has one sample with two inputs and one output.\n",
    "\n",
    "![img1](https://hmkcode.github.io/images/ai/bp_dataset.png)\n",
    "\n",
    "Our single sample is as following `inputs=[2, 3]` and \n",
    "`output=[1]`.\n",
    "\n",
    "![img2](https://hmkcode.github.io/images/ai/bp_sample.png)\n",
    "\n"
   ]
  },
  {
   "cell_type": "markdown",
   "metadata": {
    "colab_type": "text",
    "id": "LkPj9JbI19Zq"
   },
   "source": [
    "## Forward Pass\n",
    "\n",
    "We will use given weights and inputs to predict the output. Inputs are multiplied by weights; the results are then passed forward to next layer.\n",
    "![nn2](https://github.com/navpreetnp7/img/raw/master/nn2.png)\n",
    "\n",
    "$\\begin{bmatrix}2 & 3\\end{bmatrix} . \\begin{bmatrix}.17 & .22\\\\.25 & .09\\end{bmatrix} = \\begin{bmatrix}1.09 & .71\\end{bmatrix} . \\begin{bmatrix}.11\\\\.13\\end{bmatrix} = \\begin{bmatrix}.2122\\end{bmatrix}$\n"
   ]
  },
  {
   "cell_type": "markdown",
   "metadata": {
    "colab_type": "text",
    "id": "xd9UKgFR6hbe"
   },
   "source": [
    "## Calculating error\n",
    "\n",
    "Now, it’s time to find out how our network performed by calculating the difference between the actual output and predicted one. It’s clear that our network output, or **prediction**, is not even close to **actual output**. We can calculate the difference or the error as following.\n",
    "\n",
    "![nn3](https://github.com/navpreetnp7/img/raw/master/nn3.png)\n",
    "\n",
    "$ Error =  \\frac{1}{2}(prediction - actual)^2 $\n",
    "\n",
    "$ Error =  \\frac{1}{2}(.2122 - 1)^2 = .3103$\n",
    "\n"
   ]
  },
  {
   "cell_type": "markdown",
   "metadata": {
    "colab_type": "text",
    "id": "SbniLN138lk_"
   },
   "source": [
    "##Reducing Error\n",
    "Our main goal of the training is to reduce the **error** or the difference between **prediction** and **actual output**. Since **actual output** is constant, “not changing”, the only way to reduce the error is to change **prediction value**. The question now is, how to change **prediction value**?\n",
    "\n",
    "By decomposing **prediction** into its basic elements we can find that **weights** are the variable elements affecting **prediction** value. In other words, in order to change **prediction value**, we need to change **weights** values.\n",
    "\n",
    "![img](https://hmkcode.github.io/images/ai/bp_prediction_elements.png)\n",
    "\n",
    "> The question now is **how to change/update the weights value so that the error is reduced**?\n",
    "The answer is **Backpropagation**!\n"
   ]
  },
  {
   "cell_type": "markdown",
   "metadata": {
    "colab_type": "text",
    "id": "dn6h82-WVPN9"
   },
   "source": [
    "## Backpropogation\n",
    "\n",
    "**Backpropagation**, short for “backward propagation of errors”, is a mechanism used to update the **weights** using gradient descent. It calculates the gradient of the error function with respect to the neural network’s weights. The calculation proceeds backwards through the network.\n",
    "\n",
    "  > **Gradient descent** is an iterative optimization algorithm for finding the minimum of a function; in our case we want to minimize th error function. To find a local minimum of a function using gradient descent, one takes steps proportional to the negative of the gradient of the function at the current point.\n",
    "\n",
    "![img](https://hmkcode.github.io/images/ai/bp_update_formula.png)\n",
    "\n",
    "For example, to update `w6`, we take the current `w6` and subtract the partial derivative of **error** function with respect to `w6`. Optionally, we multiply the derivative of the **error** function by a selected number to make sure that the new updated **weight** is minimizing the error function; this number is called **learning rate**.\n",
    "\n",
    "![img](https://hmkcode.github.io/images/ai/bp_w6_update.png)\n",
    "\n",
    "The derivation of the error function is evaluated by applying the chain rule as following\n",
    "\n",
    "![img1](https://hmkcode.github.io/images/ai/bp_error_function_partial_derivative_w6.png)\n",
    "\n",
    "So to update `w6` we can apply the following formula\n",
    "\n",
    "![img2](https://hmkcode.github.io/images/ai/bp_w6_update_closed_form.png)\n",
    "\n",
    "Similarly, we can derive the update formula for `w5` and any other weights existing between the output and the hidden layer.\n",
    "\n",
    "![img3](https://hmkcode.github.io/images/ai/bp_w5_update_closed_form.png)\n",
    "\n",
    "However, when moving backward to update `w1`, `w2`, `w3` and `w4` existing between input and hidden layer, the partial derivative for the error function with respect to `w1`, for example, will be as following.\n",
    "\n",
    "![img4](https://hmkcode.github.io/images/ai/bp_error_function_partial_derivative_w1.png)\n",
    "\n",
    "We can find the update formula for the remaining weights `w2`, `w3` and `w4` in the same way.\n",
    "\n",
    "In summary, the update formulas for all weights will be as following:\n",
    "\n",
    "![img5](https://hmkcode.github.io/images/ai/bp_update_all_weights.png)\n",
    "\n",
    "We can rewrite the update formulas in matrices as following\n",
    "\n",
    "![img6](https://hmkcode.github.io/images/ai/bp_update_all_weights_matrix.png)\n",
    "\n",
    "\n",
    "\n"
   ]
  },
  {
   "cell_type": "markdown",
   "metadata": {
    "colab_type": "text",
    "id": "9IIzyJHBbj8y"
   },
   "source": [
    "## Backward Pass\n",
    "\n",
    "Using derived formulas we can find the new **weights**.\n",
    "\n",
    " > **Learning rate**: is a hyperparameter which means that we need to manually guess its value.\n",
    "    \n",
    " $\\Delta = 0.2122 - 1 = -0.7878$ ------>  **Delta** $ = prediction - actual $\n",
    " \n",
    " $ a = 0.05$ ----> **Learning rate**, we smartly guess this number\n",
    " \n",
    " $\\begin{bmatrix}w_5\\\\w_6 \\end{bmatrix} = \\begin{bmatrix}.11 \\\\.13\\end{bmatrix} - 0.05(-0.7878) \\begin{bmatrix}1.09 \\\\ .71\\end{bmatrix} = \\begin{bmatrix}.11\\\\.13\\end{bmatrix} - \\begin{bmatrix}-0.0428\\\\-0.0279\\end{bmatrix} = \\begin{bmatrix}.1528\\\\.1579\\end{bmatrix}$\n",
    " \n",
    " \n",
    " $\\begin{bmatrix}w_1 & w_3\\\\w_2 & w_4 \\end{bmatrix} = \\begin{bmatrix}.17 & .22\\\\.25 & .09\\end{bmatrix} - 0.05(-0.7878) \\begin{bmatrix}2 \\\\ 3\\end{bmatrix}.\\begin{bmatrix}.11 & .13\\end{bmatrix} = \\begin{bmatrix}.17 & .22\\\\.25 & .09\\end{bmatrix} - \\begin{bmatrix}-0.0086 & -0.0102\\\\-0.0129 & -0.0153\\end{bmatrix} = \\begin{bmatrix}.1786 & .2302\\\\.2629 & .1053\\end{bmatrix}$\n",
    " \n",
    "    \n",
    "Now, using the new **weights** we will repeat the forward pass\n",
    "\n",
    "![img](https://github.com/navpreetnp7/img/raw/master/nn5.png)\n",
    "\n",
    "$ \\begin{bmatrix}2\\\\3\\end{bmatrix}. \\begin{bmatrix}.1786 & .2302\\\\.2629 & .1053\\end{bmatrix} = \\begin{bmatrix}1.1463&0.7765\\end{bmatrix} . \\begin{bmatrix}.1528\\\\.1579\\end{bmatrix} = \\begin{bmatrix}0.2979\\end{bmatrix} $\n",
    "\n",
    "We can notice that the **prediction** $0.2979$ is a little bit closer to **actual output** than the previously predicted one $0.2122$. We can repeat the same process of backward and forward pass until **error** is close or equal to zero.\n",
    "\n",
    "\n",
    "\n"
   ]
  },
  {
   "cell_type": "markdown",
   "metadata": {
    "colab_type": "text",
    "id": "qTYXHjBlBsS5"
   },
   "source": [
    "# ASSIGNMENT 2b"
   ]
  },
  {
   "cell_type": "code",
   "execution_count": 0,
   "metadata": {
    "colab": {},
    "colab_type": "code",
    "id": "Wu3CpjtnbikY"
   },
   "outputs": [],
   "source": [
    "import numpy as np\n",
    "\n",
    "i1 = 2\n",
    "i2 = 3\n",
    "w1 = 0.17\n",
    "w2 = 0.25\n",
    "w3 = 0.22\n",
    "w4 = 0.09\n",
    "w5 = 0.11\n",
    "w6 = 0.13\n",
    "out = 1\n",
    "\n"
   ]
  },
  {
   "cell_type": "code",
   "execution_count": 0,
   "metadata": {
    "colab": {
     "base_uri": "https://localhost:8080/",
     "height": 92
    },
    "colab_type": "code",
    "id": "iZYWIQ0ncyuT",
    "outputId": "febcefad-ad30-41cb-a16b-7797beff5a9f"
   },
   "outputs": [
    {
     "name": "stdout",
     "output_type": "stream",
     "text": [
      "W1 = [[0.17 0.22]\n",
      " [0.25 0.09]]\n",
      "W2 = [[0.11]\n",
      " [0.13]]\n"
     ]
    }
   ],
   "source": [
    "i = np.array([i1,i2])\n",
    "I = np.array([[i1],[i2]])\n",
    "W1 = np.array([[w1,w3],[w2,w4]])\n",
    "W2 = np.array([[w5],[w6]])\n",
    "W21 = np.array([w5,w6])\n",
    "print('W1 = ',end='')\n",
    "print(W1)\n",
    "print('W2 = ',end='')\n",
    "print(W2)"
   ]
  },
  {
   "cell_type": "code",
   "execution_count": 0,
   "metadata": {
    "colab": {
     "base_uri": "https://localhost:8080/",
     "height": 36
    },
    "colab_type": "code",
    "id": "B5xl2_0fdE8h",
    "outputId": "fd86dcc1-1a46-41dd-9643-fb68f5251884"
   },
   "outputs": [
    {
     "name": "stdout",
     "output_type": "stream",
     "text": [
      "Hidden layer h = [1.09 0.71]\n"
     ]
    }
   ],
   "source": [
    "h = np.dot(i,W1)\n",
    "print('Hidden layer h = ',end='')\n",
    "print(h)"
   ]
  },
  {
   "cell_type": "code",
   "execution_count": 0,
   "metadata": {
    "colab": {
     "base_uri": "https://localhost:8080/",
     "height": 36
    },
    "colab_type": "code",
    "id": "X68XoSVkesDP",
    "outputId": "1f1aa4e6-5b5e-4031-cfe5-af35405a4aa7"
   },
   "outputs": [
    {
     "name": "stdout",
     "output_type": "stream",
     "text": [
      "Prediction = [0.2122]\n"
     ]
    }
   ],
   "source": [
    "z1 = np.dot(h,W2)\n",
    "print('Prediction = ',end='')\n",
    "print(z1)"
   ]
  },
  {
   "cell_type": "code",
   "execution_count": 0,
   "metadata": {
    "colab": {
     "base_uri": "https://localhost:8080/",
     "height": 36
    },
    "colab_type": "code",
    "id": "8-URJTB4hr2-",
    "outputId": "2c585c5a-4331-4165-edff-3e819b20855a"
   },
   "outputs": [
    {
     "name": "stdout",
     "output_type": "stream",
     "text": [
      "Error = [0.31031442]\n"
     ]
    }
   ],
   "source": [
    "error = 1/2*((z1-out)**2)\n",
    "print('Error = ',end='')\n",
    "print(error)"
   ]
  },
  {
   "cell_type": "code",
   "execution_count": 0,
   "metadata": {
    "colab": {
     "base_uri": "https://localhost:8080/",
     "height": 54
    },
    "colab_type": "code",
    "id": "e9n_hZLHiBQu",
    "outputId": "32d5b363-55c7-440f-8c9e-d63a341def3e"
   },
   "outputs": [
    {
     "name": "stdout",
     "output_type": "stream",
     "text": [
      "Delta = [-0.7878]\n",
      "Learning rate = 0.05\n"
     ]
    }
   ],
   "source": [
    "delta = z1-out\n",
    "a = 0.05 #learning rate\n",
    "print('Delta = ',end='')\n",
    "H = np.array([[h[0]],[h[1]]])\n",
    "print(delta)\n",
    "print('Learning rate = ',end='')\n",
    "print(a)"
   ]
  },
  {
   "cell_type": "code",
   "execution_count": 0,
   "metadata": {
    "colab": {
     "base_uri": "https://localhost:8080/",
     "height": 92
    },
    "colab_type": "code",
    "id": "_mYoU-50kiRA",
    "outputId": "96637980-0150-4f82-afeb-b151a91e7d70"
   },
   "outputs": [
    {
     "name": "stdout",
     "output_type": "stream",
     "text": [
      "Gradient descent for weights w5 and w6 = [[0.0429351]\n",
      " [0.0279669]]\n",
      "New weights = [[0.1529351]\n",
      " [0.1579669]]\n"
     ]
    }
   ],
   "source": [
    "W22 = W2 - a*delta*H\n",
    "print('Gradient descent for weights w5 and w6 = ',end='')\n",
    "print(-1*a*delta*H)\n",
    "print('New weights = ',end='')\n",
    "print(W22)"
   ]
  },
  {
   "cell_type": "code",
   "execution_count": 0,
   "metadata": {
    "colab": {
     "base_uri": "https://localhost:8080/",
     "height": 92
    },
    "colab_type": "code",
    "id": "3JqA1zifk0mZ",
    "outputId": "69c9b146-137e-4e64-aa8f-f948b0877988"
   },
   "outputs": [
    {
     "name": "stdout",
     "output_type": "stream",
     "text": [
      "Gradient descent for weights w1,w2,w3 and w4 = [[0.0086658 0.0102414]\n",
      " [0.0129987 0.0153621]]\n",
      "New weights = [[0.1786658 0.2302414]\n",
      " [0.2629987 0.1053621]]\n"
     ]
    }
   ],
   "source": [
    "W11 = W1 - a*delta*I*W21\n",
    "print('Gradient descent for weights w1,w2,w3 and w4 = ',end='')\n",
    "print(-1*a*delta*I*W21)\n",
    "print('New weights = ',end='')\n",
    "print(W11)"
   ]
  },
  {
   "cell_type": "code",
   "execution_count": 0,
   "metadata": {
    "colab": {
     "base_uri": "https://localhost:8080/",
     "height": 36
    },
    "colab_type": "code",
    "id": "OXKDKBqYofcx",
    "outputId": "b8bd5cc7-c893-41c2-eb77-12e3d5addadb"
   },
   "outputs": [
    {
     "name": "stdout",
     "output_type": "stream",
     "text": [
      "New predicted output = [0.29798595]\n"
     ]
    }
   ],
   "source": [
    "z2 = (i.dot(W11)).dot(W22)\n",
    "print('New predicted output = ',end='')\n",
    "print(z2)"
   ]
  },
  {
   "cell_type": "code",
   "execution_count": 0,
   "metadata": {
    "colab": {},
    "colab_type": "code",
    "id": "AP0eHBuppQ7z"
   },
   "outputs": [],
   "source": []
  }
 ],
 "metadata": {
  "colab": {
   "collapsed_sections": [],
   "name": "Assgn2.ipynb",
   "provenance": []
  },
  "kernelspec": {
   "display_name": "Python 3",
   "language": "python",
   "name": "python3"
  },
  "language_info": {
   "codemirror_mode": {
    "name": "ipython",
    "version": 3
   },
   "file_extension": ".py",
   "mimetype": "text/x-python",
   "name": "python",
   "nbconvert_exporter": "python",
   "pygments_lexer": "ipython3",
   "version": "3.7.6"
  }
 },
 "nbformat": 4,
 "nbformat_minor": 1
}
